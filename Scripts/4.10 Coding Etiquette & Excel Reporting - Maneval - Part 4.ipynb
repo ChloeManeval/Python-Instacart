{
 "cells": [
  {
   "cell_type": "markdown",
   "id": "a0e94c1b",
   "metadata": {},
   "source": [
    "# Table of Contents\n",
    "### 1. Import Librairies\n",
    "### 2. Import Data\n",
    "##### Check the data\n",
    "### 3. Compare customer profiles per regions and departments.\n",
    "###### Focus on department nr.4 (produce)\n",
    "### 4. Export Visualizations"
   ]
  },
  {
   "cell_type": "markdown",
   "id": "3d909f83",
   "metadata": {},
   "source": [
    "# 1. Import Librairies"
   ]
  },
  {
   "cell_type": "code",
   "execution_count": 1,
   "id": "0d1a587a",
   "metadata": {},
   "outputs": [],
   "source": [
    "import pandas as pd\n",
    "import numpy as np\n",
    "import os\n",
    "import matplotlib.pyplot as plt\n",
    "import seaborn as sns\n",
    "import scipy"
   ]
  },
  {
   "cell_type": "markdown",
   "id": "87b6aafc",
   "metadata": {},
   "source": [
    "# 2. Import Data"
   ]
  },
  {
   "cell_type": "code",
   "execution_count": 2,
   "id": "4879c061",
   "metadata": {},
   "outputs": [],
   "source": [
    "#Create path\n",
    "path = r'C:\\Users\\manev\\Documents\\Agentür für Arbeit\\CareerFoundry\\Data Immersion\\Achievement 4\\Instacart Basket Analysis'"
   ]
  },
  {
   "cell_type": "code",
   "execution_count": 3,
   "id": "2e68ca72",
   "metadata": {},
   "outputs": [],
   "source": [
    "#Create data frame for the \"ords_final_version\" data set\n",
    "ords_final_version = pd.read_pickle(os.path.join(path, '02 Data', 'Prepared Data', 'ords_final_version.pkl'))"
   ]
  },
  {
   "cell_type": "markdown",
   "id": "b81b69bf",
   "metadata": {},
   "source": [
    "### Check the data"
   ]
  },
  {
   "cell_type": "code",
   "execution_count": 4,
   "id": "5233b2a9",
   "metadata": {
    "scrolled": true
   },
   "outputs": [
    {
     "data": {
      "text/plain": [
       "(30964564, 36)"
      ]
     },
     "execution_count": 4,
     "metadata": {},
     "output_type": "execute_result"
    }
   ],
   "source": [
    "ords_final_version.shape"
   ]
  },
  {
   "cell_type": "code",
   "execution_count": 5,
   "id": "216b4bbe",
   "metadata": {},
   "outputs": [
    {
     "name": "stdout",
     "output_type": "stream",
     "text": [
      "<class 'pandas.core.frame.DataFrame'>\n",
      "Index: 30964564 entries, 0 to 32404854\n",
      "Data columns (total 36 columns):\n",
      " #   Column                           Dtype  \n",
      "---  ------                           -----  \n",
      " 0   order_id                         int32  \n",
      " 1   user_id                          int32  \n",
      " 2   order_number                     int8   \n",
      " 3   orders_day_of_week               int8   \n",
      " 4   order_hour_of_day                int8   \n",
      " 5   days_since_prior_order           float32\n",
      " 6   product_id                       int32  \n",
      " 7   add_to_cart_order                int16  \n",
      " 8   reordered                        int8   \n",
      " 9   product_name                     object \n",
      " 10  aisle_id                         int16  \n",
      " 11  department_id                    int8   \n",
      " 12  prices                           float32\n",
      " 13  price_range_loc                  object \n",
      " 14  busiest_day                      object \n",
      " 15  busiest_days                     object \n",
      " 16  busiest_period_of_day            object \n",
      " 17  max_order                        int8   \n",
      " 18  loyalty_flag                     object \n",
      " 19  average_item_price_per_customer  float64\n",
      " 20  spending_flag                    object \n",
      " 21  median_days_in_between_orders    float64\n",
      " 22  frequency_flag                   object \n",
      " 23  Gender                           object \n",
      " 24  State                            object \n",
      " 25  Age                              int8   \n",
      " 26  date_joined                      object \n",
      " 27  Number_of_Dependants             int8   \n",
      " 28  Family_Status                    object \n",
      " 29  Income                           int32  \n",
      " 30  Region                           object \n",
      " 31  exclusion_flag                   object \n",
      " 32  Age_Group                        object \n",
      " 33  Income_Category                  object \n",
      " 34  Children                         object \n",
      " 35  Customer_Profile                 object \n",
      "dtypes: float32(2), float64(2), int16(2), int32(4), int8(8), object(18)\n",
      "memory usage: 5.9+ GB\n"
     ]
    }
   ],
   "source": [
    "ords_final_version.info()"
   ]
  },
  {
   "cell_type": "code",
   "execution_count": 6,
   "id": "325ecb18",
   "metadata": {},
   "outputs": [
    {
     "data": {
      "text/plain": [
       "162631"
      ]
     },
     "execution_count": 6,
     "metadata": {},
     "output_type": "execute_result"
    }
   ],
   "source": [
    "#Calculating the number of unique customers\n",
    "ords_final_version.user_id.nunique()"
   ]
  },
  {
   "cell_type": "markdown",
   "id": "202abc70",
   "metadata": {},
   "source": [
    "# 3. Compare customer profiles per regions and departments."
   ]
  },
  {
   "cell_type": "code",
   "execution_count": 7,
   "id": "33ea7039",
   "metadata": {},
   "outputs": [],
   "source": [
    "departments_customer_profiles= ords_final_version[['department_id', 'Customer_Profile', 'Age_Group', 'Income_Category', 'Children','user_id']]"
   ]
  },
  {
   "cell_type": "code",
   "execution_count": 8,
   "id": "01c5748d",
   "metadata": {},
   "outputs": [
    {
     "data": {
      "text/plain": [
       "(30964564, 6)"
      ]
     },
     "execution_count": 8,
     "metadata": {},
     "output_type": "execute_result"
    }
   ],
   "source": [
    "departments_customer_profiles.shape"
   ]
  },
  {
   "cell_type": "code",
   "execution_count": 9,
   "id": "7adcde5c",
   "metadata": {
    "scrolled": false
   },
   "outputs": [
    {
     "data": {
      "text/html": [
       "<div>\n",
       "<style scoped>\n",
       "    .dataframe tbody tr th:only-of-type {\n",
       "        vertical-align: middle;\n",
       "    }\n",
       "\n",
       "    .dataframe tbody tr th {\n",
       "        vertical-align: top;\n",
       "    }\n",
       "\n",
       "    .dataframe thead th {\n",
       "        text-align: right;\n",
       "    }\n",
       "</style>\n",
       "<table border=\"1\" class=\"dataframe\">\n",
       "  <thead>\n",
       "    <tr style=\"text-align: right;\">\n",
       "      <th></th>\n",
       "      <th>department_id</th>\n",
       "      <th>Customer_Profile</th>\n",
       "      <th>Age_Group</th>\n",
       "      <th>Income_Category</th>\n",
       "      <th>Children</th>\n",
       "      <th>user_id</th>\n",
       "    </tr>\n",
       "  </thead>\n",
       "  <tbody>\n",
       "    <tr>\n",
       "      <th>0</th>\n",
       "      <td>7</td>\n",
       "      <td>Middle-Aged Adult Low Income with Children</td>\n",
       "      <td>Middle-Aged Adult</td>\n",
       "      <td>Low_Income</td>\n",
       "      <td>With_Children</td>\n",
       "      <td>1</td>\n",
       "    </tr>\n",
       "    <tr>\n",
       "      <th>1</th>\n",
       "      <td>7</td>\n",
       "      <td>Middle-Aged Adult Low Income with Children</td>\n",
       "      <td>Middle-Aged Adult</td>\n",
       "      <td>Low_Income</td>\n",
       "      <td>With_Children</td>\n",
       "      <td>1</td>\n",
       "    </tr>\n",
       "    <tr>\n",
       "      <th>2</th>\n",
       "      <td>7</td>\n",
       "      <td>Middle-Aged Adult Low Income with Children</td>\n",
       "      <td>Middle-Aged Adult</td>\n",
       "      <td>Low_Income</td>\n",
       "      <td>With_Children</td>\n",
       "      <td>1</td>\n",
       "    </tr>\n",
       "    <tr>\n",
       "      <th>3</th>\n",
       "      <td>7</td>\n",
       "      <td>Middle-Aged Adult Low Income with Children</td>\n",
       "      <td>Middle-Aged Adult</td>\n",
       "      <td>Low_Income</td>\n",
       "      <td>With_Children</td>\n",
       "      <td>1</td>\n",
       "    </tr>\n",
       "    <tr>\n",
       "      <th>4</th>\n",
       "      <td>7</td>\n",
       "      <td>Middle-Aged Adult Low Income with Children</td>\n",
       "      <td>Middle-Aged Adult</td>\n",
       "      <td>Low_Income</td>\n",
       "      <td>With_Children</td>\n",
       "      <td>1</td>\n",
       "    </tr>\n",
       "  </tbody>\n",
       "</table>\n",
       "</div>"
      ],
      "text/plain": [
       "   department_id                            Customer_Profile  \\\n",
       "0              7  Middle-Aged Adult Low Income with Children   \n",
       "1              7  Middle-Aged Adult Low Income with Children   \n",
       "2              7  Middle-Aged Adult Low Income with Children   \n",
       "3              7  Middle-Aged Adult Low Income with Children   \n",
       "4              7  Middle-Aged Adult Low Income with Children   \n",
       "\n",
       "           Age_Group Income_Category       Children  user_id  \n",
       "0  Middle-Aged Adult      Low_Income  With_Children        1  \n",
       "1  Middle-Aged Adult      Low_Income  With_Children        1  \n",
       "2  Middle-Aged Adult      Low_Income  With_Children        1  \n",
       "3  Middle-Aged Adult      Low_Income  With_Children        1  \n",
       "4  Middle-Aged Adult      Low_Income  With_Children        1  "
      ]
     },
     "execution_count": 9,
     "metadata": {},
     "output_type": "execute_result"
    }
   ],
   "source": [
    "departments_customer_profiles.head()"
   ]
  },
  {
   "cell_type": "code",
   "execution_count": 10,
   "id": "1ea93f26",
   "metadata": {},
   "outputs": [],
   "source": [
    "#Create data frame for the \"departments_wrangled\" data set\n",
    "departments_index = pd.read_pickle(os.path.join(path, '02 Data', 'Prepared Data', 'departments_wrangled.pkl'))"
   ]
  },
  {
   "cell_type": "code",
   "execution_count": 11,
   "id": "af809cc9",
   "metadata": {},
   "outputs": [
    {
     "data": {
      "text/html": [
       "<div>\n",
       "<style scoped>\n",
       "    .dataframe tbody tr th:only-of-type {\n",
       "        vertical-align: middle;\n",
       "    }\n",
       "\n",
       "    .dataframe tbody tr th {\n",
       "        vertical-align: top;\n",
       "    }\n",
       "\n",
       "    .dataframe thead th {\n",
       "        text-align: right;\n",
       "    }\n",
       "</style>\n",
       "<table border=\"1\" class=\"dataframe\">\n",
       "  <thead>\n",
       "    <tr style=\"text-align: right;\">\n",
       "      <th>department_id</th>\n",
       "      <th>department</th>\n",
       "    </tr>\n",
       "  </thead>\n",
       "  <tbody>\n",
       "    <tr>\n",
       "      <th>1</th>\n",
       "      <td>frozen</td>\n",
       "    </tr>\n",
       "    <tr>\n",
       "      <th>2</th>\n",
       "      <td>other</td>\n",
       "    </tr>\n",
       "    <tr>\n",
       "      <th>3</th>\n",
       "      <td>bakery</td>\n",
       "    </tr>\n",
       "    <tr>\n",
       "      <th>4</th>\n",
       "      <td>produce</td>\n",
       "    </tr>\n",
       "    <tr>\n",
       "      <th>5</th>\n",
       "      <td>alcohol</td>\n",
       "    </tr>\n",
       "    <tr>\n",
       "      <th>6</th>\n",
       "      <td>international</td>\n",
       "    </tr>\n",
       "    <tr>\n",
       "      <th>7</th>\n",
       "      <td>beverages</td>\n",
       "    </tr>\n",
       "    <tr>\n",
       "      <th>8</th>\n",
       "      <td>pets</td>\n",
       "    </tr>\n",
       "    <tr>\n",
       "      <th>9</th>\n",
       "      <td>dry goods pasta</td>\n",
       "    </tr>\n",
       "    <tr>\n",
       "      <th>10</th>\n",
       "      <td>bulk</td>\n",
       "    </tr>\n",
       "    <tr>\n",
       "      <th>11</th>\n",
       "      <td>personal care</td>\n",
       "    </tr>\n",
       "    <tr>\n",
       "      <th>12</th>\n",
       "      <td>meat seafood</td>\n",
       "    </tr>\n",
       "    <tr>\n",
       "      <th>13</th>\n",
       "      <td>pantry</td>\n",
       "    </tr>\n",
       "    <tr>\n",
       "      <th>14</th>\n",
       "      <td>breakfast</td>\n",
       "    </tr>\n",
       "    <tr>\n",
       "      <th>15</th>\n",
       "      <td>canned goods</td>\n",
       "    </tr>\n",
       "    <tr>\n",
       "      <th>16</th>\n",
       "      <td>dairy eggs</td>\n",
       "    </tr>\n",
       "    <tr>\n",
       "      <th>17</th>\n",
       "      <td>household</td>\n",
       "    </tr>\n",
       "    <tr>\n",
       "      <th>18</th>\n",
       "      <td>babies</td>\n",
       "    </tr>\n",
       "    <tr>\n",
       "      <th>19</th>\n",
       "      <td>snacks</td>\n",
       "    </tr>\n",
       "    <tr>\n",
       "      <th>20</th>\n",
       "      <td>deli</td>\n",
       "    </tr>\n",
       "    <tr>\n",
       "      <th>21</th>\n",
       "      <td>missing</td>\n",
       "    </tr>\n",
       "  </tbody>\n",
       "</table>\n",
       "</div>"
      ],
      "text/plain": [
       "department_id       department\n",
       "1                       frozen\n",
       "2                        other\n",
       "3                       bakery\n",
       "4                      produce\n",
       "5                      alcohol\n",
       "6                international\n",
       "7                    beverages\n",
       "8                         pets\n",
       "9              dry goods pasta\n",
       "10                        bulk\n",
       "11               personal care\n",
       "12                meat seafood\n",
       "13                      pantry\n",
       "14                   breakfast\n",
       "15                canned goods\n",
       "16                  dairy eggs\n",
       "17                   household\n",
       "18                      babies\n",
       "19                      snacks\n",
       "20                        deli\n",
       "21                     missing"
      ]
     },
     "execution_count": 11,
     "metadata": {},
     "output_type": "execute_result"
    }
   ],
   "source": [
    "departments_index"
   ]
  },
  {
   "cell_type": "code",
   "execution_count": 19,
   "id": "f41ea852",
   "metadata": {},
   "outputs": [
    {
     "name": "stderr",
     "output_type": "stream",
     "text": [
      "C:\\Users\\manev\\AppData\\Local\\Temp\\ipykernel_19236\\4220733669.py:3: UserWarning: FixedFormatter should only be used together with FixedLocator\n",
      "  bar_chart_departments.set (yticklabels=['0', '2000000', '4000000', '6000000', '8000000'])\n"
     ]
    },
    {
     "data": {
      "text/plain": [
       "[[Text(0, 0.0, '0'),\n",
       "  Text(0, 2000000.0, '2000000'),\n",
       "  Text(0, 4000000.0, '4000000'),\n",
       "  Text(0, 6000000.0, '6000000'),\n",
       "  Text(0, 8000000.0, '8000000'),\n",
       "  Text(0, 10000000.0, '')]]"
      ]
     },
     "execution_count": 19,
     "metadata": {},
     "output_type": "execute_result"
    },
    {
     "data": {
      "image/png": "[encoded data removed]",
      "text/plain": [
       "<Figure size 640x480 with 1 Axes>"
      ]
     },
     "metadata": {},
     "output_type": "display_data"
    }
   ],
   "source": [
    "#Create a bar chart showing the total number of items purchased per department\n",
    "bar_chart_departments = departments_customer_profiles['department_id'].value_counts().plot.bar(color='lightblue', xlabel='Department', ylabel='Number of Item Purchased',title='Number of Items Purchased per Department')\n",
    "bar_chart_departments.set (yticklabels=['0', '2000000', '4000000', '6000000', '8000000'])"
   ]
  },
  {
   "cell_type": "code",
   "execution_count": 13,
   "id": "964a827b",
   "metadata": {},
   "outputs": [
    {
     "data": {
      "text/plain": [
       "department_id\n",
       "4     9079273\n",
       "16    5177182\n",
       "19    2766406\n",
       "7     2571901\n",
       "1     2121731\n",
       "13    1782705\n",
       "3     1120828\n",
       "15    1012074\n",
       "20    1003834\n",
       "9      822136\n",
       "17     699857\n",
       "12     674781\n",
       "14     670850\n",
       "11     424306\n",
       "18     410392\n",
       "6      255991\n",
       "5      144627\n",
       "8       93060\n",
       "21      64768\n",
       "2       34411\n",
       "10      33451\n",
       "Name: count, dtype: int64"
      ]
     },
     "execution_count": 13,
     "metadata": {},
     "output_type": "execute_result"
    }
   ],
   "source": [
    "#Print the frequency of the “department_id” column to find the top 5 departments\n",
    "departments_customer_profiles['department_id'].value_counts(dropna=False)"
   ]
  },
  {
   "cell_type": "markdown",
   "id": "eb173cf6",
   "metadata": {},
   "source": [
    "The top 5 departments are number 4, 16, 19, 7 and 1."
   ]
  },
  {
   "cell_type": "code",
   "execution_count": 14,
   "id": "0f941ef5",
   "metadata": {},
   "outputs": [],
   "source": [
    "#Create a subset with the top 5 departments only\n",
    "top_5_dpt= departments_customer_profiles.loc[departments_customer_profiles['department_id'].isin([4,16,19,7,1])]"
   ]
  },
  {
   "cell_type": "code",
   "execution_count": 15,
   "id": "ddbc5e78",
   "metadata": {},
   "outputs": [],
   "source": [
    "#Creating a crosstable showing which customer profile purchased items from which department\n",
    "crosstab_top_5_dpt = pd.crosstab(top_5_dpt['department_id'],top_5_dpt['Customer_Profile'], dropna = False)"
   ]
  },
  {
   "cell_type": "code",
   "execution_count": 16,
   "id": "58ac289e",
   "metadata": {
    "scrolled": false
   },
   "outputs": [
    {
     "data": {
      "text/html": [
       "<div>\n",
       "<style scoped>\n",
       "    .dataframe tbody tr th:only-of-type {\n",
       "        vertical-align: middle;\n",
       "    }\n",
       "\n",
       "    .dataframe tbody tr th {\n",
       "        vertical-align: top;\n",
       "    }\n",
       "\n",
       "    .dataframe thead th {\n",
       "        text-align: right;\n",
       "    }\n",
       "</style>\n",
       "<table border=\"1\" class=\"dataframe\">\n",
       "  <thead>\n",
       "    <tr style=\"text-align: right;\">\n",
       "      <th>Customer_Profile</th>\n",
       "      <th>Middle-Aged Adult High Income with Children</th>\n",
       "      <th>Middle-Aged Adult High Income without Children</th>\n",
       "      <th>Middle-Aged Adult Low Income with Children</th>\n",
       "      <th>Middle-Aged Adult Low Income without Children</th>\n",
       "      <th>Middle-Aged Adult Mid-range Income with Children</th>\n",
       "      <th>Middle-Aged Adult Mid-range Income without Children</th>\n",
       "      <th>Senior High Income with Children</th>\n",
       "      <th>Senior High Income without Children</th>\n",
       "      <th>Senior Low Income with Children</th>\n",
       "      <th>Senior Low Income without Children</th>\n",
       "      <th>Senior Mid-range Income with Children</th>\n",
       "      <th>Senior Mid-range Income without Children</th>\n",
       "      <th>Young Adult High Income with Children</th>\n",
       "      <th>Young Adult High Income without Children</th>\n",
       "      <th>Young Adult Low Income with Children</th>\n",
       "      <th>Young Adult Low Income without Children</th>\n",
       "      <th>Young Adult Mid-range Income with Children</th>\n",
       "      <th>Young Adult Mid-range Income without Children</th>\n",
       "    </tr>\n",
       "    <tr>\n",
       "      <th>department_id</th>\n",
       "      <th></th>\n",
       "      <th></th>\n",
       "      <th></th>\n",
       "      <th></th>\n",
       "      <th></th>\n",
       "      <th></th>\n",
       "      <th></th>\n",
       "      <th></th>\n",
       "      <th></th>\n",
       "      <th></th>\n",
       "      <th></th>\n",
       "      <th></th>\n",
       "      <th></th>\n",
       "      <th></th>\n",
       "      <th></th>\n",
       "      <th></th>\n",
       "      <th></th>\n",
       "      <th></th>\n",
       "    </tr>\n",
       "  </thead>\n",
       "  <tbody>\n",
       "    <tr>\n",
       "      <th>1</th>\n",
       "      <td>235806</td>\n",
       "      <td>80209</td>\n",
       "      <td>195498</td>\n",
       "      <td>66032</td>\n",
       "      <td>436384</td>\n",
       "      <td>145335</td>\n",
       "      <td>164575</td>\n",
       "      <td>54950</td>\n",
       "      <td>49975</td>\n",
       "      <td>16893</td>\n",
       "      <td>208596</td>\n",
       "      <td>69261</td>\n",
       "      <td>4591</td>\n",
       "      <td>953</td>\n",
       "      <td>139325</td>\n",
       "      <td>43316</td>\n",
       "      <td>157633</td>\n",
       "      <td>52399</td>\n",
       "    </tr>\n",
       "    <tr>\n",
       "      <th>4</th>\n",
       "      <td>999475</td>\n",
       "      <td>342105</td>\n",
       "      <td>818549</td>\n",
       "      <td>279208</td>\n",
       "      <td>1898482</td>\n",
       "      <td>633919</td>\n",
       "      <td>702808</td>\n",
       "      <td>231943</td>\n",
       "      <td>204650</td>\n",
       "      <td>61824</td>\n",
       "      <td>905554</td>\n",
       "      <td>301325</td>\n",
       "      <td>10613</td>\n",
       "      <td>2697</td>\n",
       "      <td>570445</td>\n",
       "      <td>190061</td>\n",
       "      <td>693256</td>\n",
       "      <td>232359</td>\n",
       "    </tr>\n",
       "    <tr>\n",
       "      <th>7</th>\n",
       "      <td>267898</td>\n",
       "      <td>92784</td>\n",
       "      <td>288419</td>\n",
       "      <td>97881</td>\n",
       "      <td>497706</td>\n",
       "      <td>165538</td>\n",
       "      <td>190084</td>\n",
       "      <td>61721</td>\n",
       "      <td>92628</td>\n",
       "      <td>27895</td>\n",
       "      <td>232666</td>\n",
       "      <td>79026</td>\n",
       "      <td>4672</td>\n",
       "      <td>1374</td>\n",
       "      <td>176599</td>\n",
       "      <td>59737</td>\n",
       "      <td>175888</td>\n",
       "      <td>59385</td>\n",
       "    </tr>\n",
       "    <tr>\n",
       "      <th>16</th>\n",
       "      <td>574187</td>\n",
       "      <td>197517</td>\n",
       "      <td>470862</td>\n",
       "      <td>161522</td>\n",
       "      <td>1073259</td>\n",
       "      <td>355485</td>\n",
       "      <td>401663</td>\n",
       "      <td>128684</td>\n",
       "      <td>119256</td>\n",
       "      <td>38977</td>\n",
       "      <td>508353</td>\n",
       "      <td>171139</td>\n",
       "      <td>9557</td>\n",
       "      <td>2428</td>\n",
       "      <td>331052</td>\n",
       "      <td>107537</td>\n",
       "      <td>394617</td>\n",
       "      <td>131087</td>\n",
       "    </tr>\n",
       "    <tr>\n",
       "      <th>19</th>\n",
       "      <td>261937</td>\n",
       "      <td>90492</td>\n",
       "      <td>381372</td>\n",
       "      <td>128001</td>\n",
       "      <td>492458</td>\n",
       "      <td>161683</td>\n",
       "      <td>183121</td>\n",
       "      <td>60999</td>\n",
       "      <td>129608</td>\n",
       "      <td>40277</td>\n",
       "      <td>235524</td>\n",
       "      <td>79020</td>\n",
       "      <td>4280</td>\n",
       "      <td>1169</td>\n",
       "      <td>210827</td>\n",
       "      <td>69172</td>\n",
       "      <td>176841</td>\n",
       "      <td>59625</td>\n",
       "    </tr>\n",
       "  </tbody>\n",
       "</table>\n",
       "</div>"
      ],
      "text/plain": [
       "Customer_Profile  Middle-Aged Adult High Income with Children  \\\n",
       "department_id                                                   \n",
       "1                                                      235806   \n",
       "4                                                      999475   \n",
       "7                                                      267898   \n",
       "16                                                     574187   \n",
       "19                                                     261937   \n",
       "\n",
       "Customer_Profile  Middle-Aged Adult High Income without Children  \\\n",
       "department_id                                                      \n",
       "1                                                          80209   \n",
       "4                                                         342105   \n",
       "7                                                          92784   \n",
       "16                                                        197517   \n",
       "19                                                         90492   \n",
       "\n",
       "Customer_Profile  Middle-Aged Adult Low Income with Children  \\\n",
       "department_id                                                  \n",
       "1                                                     195498   \n",
       "4                                                     818549   \n",
       "7                                                     288419   \n",
       "16                                                    470862   \n",
       "19                                                    381372   \n",
       "\n",
       "Customer_Profile  Middle-Aged Adult Low Income without Children  \\\n",
       "department_id                                                     \n",
       "1                                                         66032   \n",
       "4                                                        279208   \n",
       "7                                                         97881   \n",
       "16                                                       161522   \n",
       "19                                                       128001   \n",
       "\n",
       "Customer_Profile  Middle-Aged Adult Mid-range Income with Children  \\\n",
       "department_id                                                        \n",
       "1                                                           436384   \n",
       "4                                                          1898482   \n",
       "7                                                           497706   \n",
       "16                                                         1073259   \n",
       "19                                                          492458   \n",
       "\n",
       "Customer_Profile  Middle-Aged Adult Mid-range Income without Children  \\\n",
       "department_id                                                           \n",
       "1                                                            145335     \n",
       "4                                                            633919     \n",
       "7                                                            165538     \n",
       "16                                                           355485     \n",
       "19                                                           161683     \n",
       "\n",
       "Customer_Profile  Senior High Income with Children  \\\n",
       "department_id                                        \n",
       "1                                           164575   \n",
       "4                                           702808   \n",
       "7                                           190084   \n",
       "16                                          401663   \n",
       "19                                          183121   \n",
       "\n",
       "Customer_Profile  Senior High Income without Children  \\\n",
       "department_id                                           \n",
       "1                                               54950   \n",
       "4                                              231943   \n",
       "7                                               61721   \n",
       "16                                             128684   \n",
       "19                                              60999   \n",
       "\n",
       "Customer_Profile  Senior Low Income with Children  \\\n",
       "department_id                                       \n",
       "1                                           49975   \n",
       "4                                          204650   \n",
       "7                                           92628   \n",
       "16                                         119256   \n",
       "19                                         129608   \n",
       "\n",
       "Customer_Profile  Senior Low Income without Children  \\\n",
       "department_id                                          \n",
       "1                                              16893   \n",
       "4                                              61824   \n",
       "7                                              27895   \n",
       "16                                             38977   \n",
       "19                                             40277   \n",
       "\n",
       "Customer_Profile  Senior Mid-range Income with Children  \\\n",
       "department_id                                             \n",
       "1                                                208596   \n",
       "4                                                905554   \n",
       "7                                                232666   \n",
       "16                                               508353   \n",
       "19                                               235524   \n",
       "\n",
       "Customer_Profile  Senior Mid-range Income without Children  \\\n",
       "department_id                                                \n",
       "1                                                    69261   \n",
       "4                                                   301325   \n",
       "7                                                    79026   \n",
       "16                                                  171139   \n",
       "19                                                   79020   \n",
       "\n",
       "Customer_Profile  Young Adult High Income with Children  \\\n",
       "department_id                                             \n",
       "1                                                  4591   \n",
       "4                                                 10613   \n",
       "7                                                  4672   \n",
       "16                                                 9557   \n",
       "19                                                 4280   \n",
       "\n",
       "Customer_Profile  Young Adult High Income without Children  \\\n",
       "department_id                                                \n",
       "1                                                      953   \n",
       "4                                                     2697   \n",
       "7                                                     1374   \n",
       "16                                                    2428   \n",
       "19                                                    1169   \n",
       "\n",
       "Customer_Profile  Young Adult Low Income with Children  \\\n",
       "department_id                                            \n",
       "1                                               139325   \n",
       "4                                               570445   \n",
       "7                                               176599   \n",
       "16                                              331052   \n",
       "19                                              210827   \n",
       "\n",
       "Customer_Profile  Young Adult Low Income without Children  \\\n",
       "department_id                                               \n",
       "1                                                   43316   \n",
       "4                                                  190061   \n",
       "7                                                   59737   \n",
       "16                                                 107537   \n",
       "19                                                  69172   \n",
       "\n",
       "Customer_Profile  Young Adult Mid-range Income with Children  \\\n",
       "department_id                                                  \n",
       "1                                                     157633   \n",
       "4                                                     693256   \n",
       "7                                                     175888   \n",
       "16                                                    394617   \n",
       "19                                                    176841   \n",
       "\n",
       "Customer_Profile  Young Adult Mid-range Income without Children  \n",
       "department_id                                                    \n",
       "1                                                         52399  \n",
       "4                                                        232359  \n",
       "7                                                         59385  \n",
       "16                                                       131087  \n",
       "19                                                        59625  "
      ]
     },
     "execution_count": 16,
     "metadata": {},
     "output_type": "execute_result"
    }
   ],
   "source": [
    "crosstab_top_5_dpt.head(21)"
   ]
  },
  {
   "cell_type": "code",
   "execution_count": 17,
   "id": "5509e5d2",
   "metadata": {
    "scrolled": false
   },
   "outputs": [
    {
     "name": "stderr",
     "output_type": "stream",
     "text": [
      "C:\\Users\\manev\\AppData\\Local\\Temp\\ipykernel_19236\\1585219496.py:3: UserWarning: FixedFormatter should only be used together with FixedLocator\n",
      "  bar_chart_top_5_departments_customer_profiles.set(xticklabels=['frozen', 'produce', 'beverages', 'dairy eggs', 'snacks'], yticklabels=['0', '250000', '500000', '750000', '1000000', '1250000', '1500000', '1750000'])\n"
     ]
    },
    {
     "data": {
      "text/plain": [
       "[[Text(0, 0, 'frozen'),\n",
       "  Text(1, 0, 'produce'),\n",
       "  Text(2, 0, 'beverages'),\n",
       "  Text(3, 0, 'dairy eggs'),\n",
       "  Text(4, 0, 'snacks')],\n",
       " [Text(0, 0.0, '0'),\n",
       "  Text(0, 250000.0, '250000'),\n",
       "  Text(0, 500000.0, '500000'),\n",
       "  Text(0, 750000.0, '750000'),\n",
       "  Text(0, 1000000.0, '1000000'),\n",
       "  Text(0, 1250000.0, '1250000'),\n",
       "  Text(0, 1500000.0, '1500000'),\n",
       "  Text(0, 1750000.0, '1750000'),\n",
       "  Text(0, 2000000.0, '')]]"
      ]
     },
     "execution_count": 17,
     "metadata": {},
     "output_type": "execute_result"
    },
    {
     "data": {
      "image/png": "[encoded data removed]",
      "text/plain": [
       "<Figure size 640x480 with 1 Axes>"
      ]
     },
     "metadata": {},
     "output_type": "display_data"
    }
   ],
   "source": [
    "bar_chart_top_5_departments_customer_profiles = crosstab_top_5_dpt.plot.bar(color=['lightsteelblue', 'cornflowerblue','royalblue', 'mediumblue','midnightblue', 'rebeccapurple', 'darkorchid', 'mediumpurple','plum', 'hotpink', 'deeppink', 'crimson', 'firebrick','indianred', 'lightcoral', 'tomato', 'orangered', 'chocolate'],title='Number of Items Purchased per Customer Profile per Department')\n",
    "bar_chart_top_5_departments_customer_profiles.legend(loc='center left',bbox_to_anchor=(1, 0.5))\n",
    "bar_chart_top_5_departments_customer_profiles.set(xticklabels=['frozen', 'produce', 'beverages', 'dairy eggs', 'snacks'], yticklabels=['0', '250000', '500000', '750000', '1000000', '1250000', '1500000', '1750000'])"
   ]
  },
  {
   "cell_type": "markdown",
   "id": "bc76c946",
   "metadata": {},
   "source": [
    "# 4. Export Visualizations"
   ]
  },
  {
   "cell_type": "code",
   "execution_count": 18,
   "id": "cee1d00d",
   "metadata": {},
   "outputs": [],
   "source": [
    "#Exporting visualizations\n",
    "bar_chart_top_5_departments_customer_profiles.figure.savefig(os.path.join(path, '04 Analysis','Visualizations', 'bar_chart_top_5_departments_customer_profiles.png'))\n",
    "bar_chart_departments.figure.savefig(os.path.join(path, '04 Analysis','Visualizations', 'bar_chart_departments.png'))"
   ]
  }
 ],
 "metadata": {
  "kernelspec": {
   "display_name": "Python 3 (ipykernel)",
   "language": "python",
   "name": "python3"
  },
  "language_info": {
   "codemirror_mode": {
    "name": "ipython",
    "version": 3
   },
   "file_extension": ".py",
   "mimetype": "text/x-python",
   "name": "python",
   "nbconvert_exporter": "python",
   "pygments_lexer": "ipython3",
   "version": "3.11.5"
  }
 },
 "nbformat": 4,
 "nbformat_minor": 5
}
