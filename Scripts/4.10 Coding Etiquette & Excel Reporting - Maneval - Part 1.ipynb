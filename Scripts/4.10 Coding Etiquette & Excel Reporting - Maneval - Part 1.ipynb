{
 "cells": [
  {
   "cell_type": "markdown",
   "id": "a90e6540",
   "metadata": {},
   "source": [
    "# Table of Contents\n",
    "### 1. Import Librairies\n",
    "### 2. Import Data\n",
    "##### Check whether there is any PII data in the data set\n",
    "##### Determine whether there’s a difference in spending habits between the different U.S. regions\n",
    "##### Create an exclusion flag for low-activity customers (customers with less than 5 orders) and exclude them from the data\n",
    "### 4. Export Visualizations"
   ]
  },
  {
   "cell_type": "markdown",
   "id": "6a104266",
   "metadata": {},
   "source": [
    "# 1. Import Librairies"
   ]
  },
  {
   "cell_type": "code",
   "execution_count": 1,
   "id": "bd67d7cc",
   "metadata": {},
   "outputs": [],
   "source": [
    "import pandas as pd\n",
    "import numpy as np\n",
    "import os\n",
    "import matplotlib.pyplot as plt\n",
    "import seaborn as sns\n",
    "import scipy"
   ]
  },
  {
   "cell_type": "markdown",
   "id": "0a23ad2b",
   "metadata": {},
   "source": [
    "# 2. Import Data"
   ]
  },
  {
   "cell_type": "code",
   "execution_count": 2,
   "id": "c4df3d28",
   "metadata": {},
   "outputs": [],
   "source": [
    "#Create path\n",
    "path = r'C:\\Users\\manev\\Documents\\Agentür für Arbeit\\CareerFoundry\\Data Immersion\\Achievement 4\\Instacart Basket Analysis'"
   ]
  },
  {
   "cell_type": "code",
   "execution_count": 3,
   "id": "dfff4731",
   "metadata": {},
   "outputs": [],
   "source": [
    "#Create data frame for the \"ords_prods_cust_merge\" data set\n",
    "ords_final = pd.read_pickle(os.path.join(path, '02 Data', 'Prepared Data', 'ords_prods_cust_merge.pkl'))"
   ]
  },
  {
   "cell_type": "code",
   "execution_count": 4,
   "id": "52bdab02",
   "metadata": {},
   "outputs": [
    {
     "data": {
      "text/plain": [
       "(32404859, 30)"
      ]
     },
     "execution_count": 4,
     "metadata": {},
     "output_type": "execute_result"
    }
   ],
   "source": [
    "#Check the shape of the data set\n",
    "ords_final.shape"
   ]
  },
  {
   "cell_type": "markdown",
   "id": "1e0ecce3",
   "metadata": {},
   "source": [
    "### Check whether there is any PII data in the data set."
   ]
  },
  {
   "cell_type": "code",
   "execution_count": 5,
   "id": "07378e81",
   "metadata": {},
   "outputs": [
    {
     "data": {
      "text/html": [
       "<div>\n",
       "<style scoped>\n",
       "    .dataframe tbody tr th:only-of-type {\n",
       "        vertical-align: middle;\n",
       "    }\n",
       "\n",
       "    .dataframe tbody tr th {\n",
       "        vertical-align: top;\n",
       "    }\n",
       "\n",
       "    .dataframe thead th {\n",
       "        text-align: right;\n",
       "    }\n",
       "</style>\n",
       "<table border=\"1\" class=\"dataframe\">\n",
       "  <thead>\n",
       "    <tr style=\"text-align: right;\">\n",
       "      <th></th>\n",
       "      <th>order_id</th>\n",
       "      <th>user_id</th>\n",
       "      <th>order_number</th>\n",
       "      <th>orders_day_of_week</th>\n",
       "      <th>order_hour_of_day</th>\n",
       "      <th>days_since_prior_order</th>\n",
       "      <th>product_id</th>\n",
       "      <th>add_to_cart_order</th>\n",
       "      <th>reordered</th>\n",
       "      <th>product_name</th>\n",
       "      <th>...</th>\n",
       "      <th>spending_flag</th>\n",
       "      <th>median_days_in_between_orders</th>\n",
       "      <th>frequency_flag</th>\n",
       "      <th>Gender</th>\n",
       "      <th>State</th>\n",
       "      <th>Age</th>\n",
       "      <th>date_joined</th>\n",
       "      <th>Number_of_Dependants</th>\n",
       "      <th>Family_Status</th>\n",
       "      <th>Income</th>\n",
       "    </tr>\n",
       "  </thead>\n",
       "  <tbody>\n",
       "    <tr>\n",
       "      <th>0</th>\n",
       "      <td>2539329</td>\n",
       "      <td>1</td>\n",
       "      <td>1</td>\n",
       "      <td>2</td>\n",
       "      <td>8</td>\n",
       "      <td>NaN</td>\n",
       "      <td>196</td>\n",
       "      <td>1</td>\n",
       "      <td>0</td>\n",
       "      <td>Soda</td>\n",
       "      <td>...</td>\n",
       "      <td>Low spender</td>\n",
       "      <td>20.5</td>\n",
       "      <td>Non-frequent customer</td>\n",
       "      <td>Female</td>\n",
       "      <td>Alabama</td>\n",
       "      <td>31</td>\n",
       "      <td>2/17/2019</td>\n",
       "      <td>3</td>\n",
       "      <td>married</td>\n",
       "      <td>40423</td>\n",
       "    </tr>\n",
       "    <tr>\n",
       "      <th>1</th>\n",
       "      <td>2398795</td>\n",
       "      <td>1</td>\n",
       "      <td>2</td>\n",
       "      <td>3</td>\n",
       "      <td>7</td>\n",
       "      <td>15.0</td>\n",
       "      <td>196</td>\n",
       "      <td>1</td>\n",
       "      <td>1</td>\n",
       "      <td>Soda</td>\n",
       "      <td>...</td>\n",
       "      <td>Low spender</td>\n",
       "      <td>20.5</td>\n",
       "      <td>Non-frequent customer</td>\n",
       "      <td>Female</td>\n",
       "      <td>Alabama</td>\n",
       "      <td>31</td>\n",
       "      <td>2/17/2019</td>\n",
       "      <td>3</td>\n",
       "      <td>married</td>\n",
       "      <td>40423</td>\n",
       "    </tr>\n",
       "    <tr>\n",
       "      <th>2</th>\n",
       "      <td>473747</td>\n",
       "      <td>1</td>\n",
       "      <td>3</td>\n",
       "      <td>3</td>\n",
       "      <td>12</td>\n",
       "      <td>21.0</td>\n",
       "      <td>196</td>\n",
       "      <td>1</td>\n",
       "      <td>1</td>\n",
       "      <td>Soda</td>\n",
       "      <td>...</td>\n",
       "      <td>Low spender</td>\n",
       "      <td>20.5</td>\n",
       "      <td>Non-frequent customer</td>\n",
       "      <td>Female</td>\n",
       "      <td>Alabama</td>\n",
       "      <td>31</td>\n",
       "      <td>2/17/2019</td>\n",
       "      <td>3</td>\n",
       "      <td>married</td>\n",
       "      <td>40423</td>\n",
       "    </tr>\n",
       "    <tr>\n",
       "      <th>3</th>\n",
       "      <td>2254736</td>\n",
       "      <td>1</td>\n",
       "      <td>4</td>\n",
       "      <td>4</td>\n",
       "      <td>7</td>\n",
       "      <td>29.0</td>\n",
       "      <td>196</td>\n",
       "      <td>1</td>\n",
       "      <td>1</td>\n",
       "      <td>Soda</td>\n",
       "      <td>...</td>\n",
       "      <td>Low spender</td>\n",
       "      <td>20.5</td>\n",
       "      <td>Non-frequent customer</td>\n",
       "      <td>Female</td>\n",
       "      <td>Alabama</td>\n",
       "      <td>31</td>\n",
       "      <td>2/17/2019</td>\n",
       "      <td>3</td>\n",
       "      <td>married</td>\n",
       "      <td>40423</td>\n",
       "    </tr>\n",
       "    <tr>\n",
       "      <th>4</th>\n",
       "      <td>431534</td>\n",
       "      <td>1</td>\n",
       "      <td>5</td>\n",
       "      <td>4</td>\n",
       "      <td>15</td>\n",
       "      <td>28.0</td>\n",
       "      <td>196</td>\n",
       "      <td>1</td>\n",
       "      <td>1</td>\n",
       "      <td>Soda</td>\n",
       "      <td>...</td>\n",
       "      <td>Low spender</td>\n",
       "      <td>20.5</td>\n",
       "      <td>Non-frequent customer</td>\n",
       "      <td>Female</td>\n",
       "      <td>Alabama</td>\n",
       "      <td>31</td>\n",
       "      <td>2/17/2019</td>\n",
       "      <td>3</td>\n",
       "      <td>married</td>\n",
       "      <td>40423</td>\n",
       "    </tr>\n",
       "  </tbody>\n",
       "</table>\n",
       "<p>5 rows × 30 columns</p>\n",
       "</div>"
      ],
      "text/plain": [
       "   order_id  user_id  order_number  orders_day_of_week  order_hour_of_day  \\\n",
       "0   2539329        1             1                   2                  8   \n",
       "1   2398795        1             2                   3                  7   \n",
       "2    473747        1             3                   3                 12   \n",
       "3   2254736        1             4                   4                  7   \n",
       "4    431534        1             5                   4                 15   \n",
       "\n",
       "   days_since_prior_order  product_id  add_to_cart_order  reordered  \\\n",
       "0                     NaN         196                  1          0   \n",
       "1                    15.0         196                  1          1   \n",
       "2                    21.0         196                  1          1   \n",
       "3                    29.0         196                  1          1   \n",
       "4                    28.0         196                  1          1   \n",
       "\n",
       "  product_name  ...  spending_flag  median_days_in_between_orders  \\\n",
       "0         Soda  ...    Low spender                           20.5   \n",
       "1         Soda  ...    Low spender                           20.5   \n",
       "2         Soda  ...    Low spender                           20.5   \n",
       "3         Soda  ...    Low spender                           20.5   \n",
       "4         Soda  ...    Low spender                           20.5   \n",
       "\n",
       "          frequency_flag  Gender    State Age date_joined  \\\n",
       "0  Non-frequent customer  Female  Alabama  31   2/17/2019   \n",
       "1  Non-frequent customer  Female  Alabama  31   2/17/2019   \n",
       "2  Non-frequent customer  Female  Alabama  31   2/17/2019   \n",
       "3  Non-frequent customer  Female  Alabama  31   2/17/2019   \n",
       "4  Non-frequent customer  Female  Alabama  31   2/17/2019   \n",
       "\n",
       "   Number_of_Dependants Family_Status  Income  \n",
       "0                     3       married   40423  \n",
       "1                     3       married   40423  \n",
       "2                     3       married   40423  \n",
       "3                     3       married   40423  \n",
       "4                     3       married   40423  \n",
       "\n",
       "[5 rows x 30 columns]"
      ]
     },
     "execution_count": 5,
     "metadata": {},
     "output_type": "execute_result"
    }
   ],
   "source": [
    "ords_final.head()"
   ]
  },
  {
   "cell_type": "markdown",
   "id": "b1d0fdd3",
   "metadata": {},
   "source": [
    "There is no PII data in the data set, as the First_Name amd Last_Name columns were dropped earlier to avoid any privacy issues."
   ]
  },
  {
   "cell_type": "markdown",
   "id": "aa0f4b7b",
   "metadata": {},
   "source": [
    "### Determine whether there’s a difference in spending habits between the different U.S. regions."
   ]
  },
  {
   "cell_type": "code",
   "execution_count": 6,
   "id": "0b84e66b",
   "metadata": {},
   "outputs": [],
   "source": [
    "#Creating a Region column\n",
    "ords_final.loc[(ords_final['State'] == 'Maine')\n",
    "               |(ords_final['State'] == 'New Hampshire')\n",
    "               |(ords_final['State'] == 'Vermont')\n",
    "               |(ords_final['State'] == 'Massachusetts')\n",
    "               |(ords_final['State'] == 'Rhode Island')\n",
    "               |(ords_final['State'] == 'Connecticut')\n",
    "               |(ords_final['State'] == 'New York')\n",
    "               |(ords_final['State'] == 'Pennsylvania')\n",
    "               |(ords_final['State'] == 'New Jersey'), 'Region'] = 'Northeast'"
   ]
  },
  {
   "cell_type": "code",
   "execution_count": 7,
   "id": "256fe8ed",
   "metadata": {},
   "outputs": [],
   "source": [
    "ords_final.loc[(ords_final['State'] == 'Wisconsin')\n",
    "               |(ords_final['State'] == 'Michigan')\n",
    "               |(ords_final['State'] == 'Illinois')\n",
    "               |(ords_final['State'] == 'Indiana')\n",
    "               |(ords_final['State'] == 'Ohio')\n",
    "               |(ords_final['State'] == 'North Dakota')\n",
    "               |(ords_final['State'] == 'South Dakota')\n",
    "               |(ords_final['State'] == 'Nebraska')\n",
    "               |(ords_final['State'] == 'Kansas')\n",
    "               |(ords_final['State'] == 'Minnesota')\n",
    "               |(ords_final['State'] == 'Iowa')\n",
    "               |(ords_final['State'] == 'Missouri'), 'Region'] = 'Midwest'"
   ]
  },
  {
   "cell_type": "code",
   "execution_count": 8,
   "id": "4816aea5",
   "metadata": {},
   "outputs": [],
   "source": [
    "ords_final.loc[(ords_final['State'] == 'Delaware')\n",
    "               |(ords_final['State'] == 'Maryland')\n",
    "               |(ords_final['State'] == 'District of Columbia')\n",
    "               |(ords_final['State'] == 'Virginia')\n",
    "               |(ords_final['State'] == 'West Virginia')\n",
    "               |(ords_final['State'] == 'North Carolina')\n",
    "               |(ords_final['State'] == 'South Carolina')\n",
    "               |(ords_final['State'] == 'Georgia')\n",
    "               |(ords_final['State'] == 'Florida')\n",
    "               |(ords_final['State'] == 'Kentucky')\n",
    "               |(ords_final['State'] == 'Tennessee')\n",
    "               |(ords_final['State'] == 'Mississippi')\n",
    "               |(ords_final['State'] == 'Alabama')\n",
    "               |(ords_final['State'] == 'Oklahoma')\n",
    "               |(ords_final['State'] == 'Texas')\n",
    "               |(ords_final['State'] == 'Arkansas')\n",
    "               |(ords_final['State'] == 'Louisiana'), 'Region'] = 'South'"
   ]
  },
  {
   "cell_type": "code",
   "execution_count": 9,
   "id": "19fdcf81",
   "metadata": {},
   "outputs": [],
   "source": [
    "ords_final.loc[(ords_final['State'] == 'Idaho')\n",
    "               |(ords_final['State'] == 'Montana')\n",
    "               |(ords_final['State'] == 'Wyoming')\n",
    "               |(ords_final['State'] == 'Nevada')\n",
    "               |(ords_final['State'] == 'Utah')\n",
    "               |(ords_final['State'] == 'Colorado')\n",
    "               |(ords_final['State'] == 'Arizona')\n",
    "               |(ords_final['State'] == 'New Mexico')\n",
    "               |(ords_final['State'] == 'Alaska')\n",
    "               |(ords_final['State'] == 'Washington')\n",
    "               |(ords_final['State'] == 'Oregon')\n",
    "               |(ords_final['State'] == 'California')\n",
    "               |(ords_final['State'] == 'Hawaii'), 'Region'] = 'West'"
   ]
  },
  {
   "cell_type": "code",
   "execution_count": 10,
   "id": "a26d2d01",
   "metadata": {},
   "outputs": [
    {
     "data": {
      "text/plain": [
       "Region\n",
       "South        10791885\n",
       "West          8292913\n",
       "Midwest       7597325\n",
       "Northeast     5722736\n",
       "Name: count, dtype: int64"
      ]
     },
     "execution_count": 10,
     "metadata": {},
     "output_type": "execute_result"
    }
   ],
   "source": [
    "# Checking the value counts for the new Region column\n",
    "ords_final['Region'].value_counts()"
   ]
  },
  {
   "cell_type": "code",
   "execution_count": 11,
   "id": "9a4504bf",
   "metadata": {},
   "outputs": [
    {
     "data": {
      "text/plain": [
       "32404859"
      ]
     },
     "execution_count": 11,
     "metadata": {},
     "output_type": "execute_result"
    }
   ],
   "source": [
    "# Checking whether every row has been assigned a value in the Region column\n",
    "10791885+8292913+7597325+5722736"
   ]
  },
  {
   "cell_type": "markdown",
   "id": "2fd99e9e",
   "metadata": {},
   "source": [
    "The number matches the total amount of rows in the data set, so every row has been assigned a value in the Region column."
   ]
  },
  {
   "cell_type": "code",
   "execution_count": 12,
   "id": "3ae90e08",
   "metadata": {},
   "outputs": [],
   "source": [
    "# Crossing the Region variable with the spending flag\n",
    "regional_spending= pd.crosstab(ords_final['Region'], ords_final['spending_flag'], dropna = False)"
   ]
  },
  {
   "cell_type": "code",
   "execution_count": 13,
   "id": "e405fe1c",
   "metadata": {
    "scrolled": true
   },
   "outputs": [
    {
     "data": {
      "text/html": [
       "<div>\n",
       "<style scoped>\n",
       "    .dataframe tbody tr th:only-of-type {\n",
       "        vertical-align: middle;\n",
       "    }\n",
       "\n",
       "    .dataframe tbody tr th {\n",
       "        vertical-align: top;\n",
       "    }\n",
       "\n",
       "    .dataframe thead th {\n",
       "        text-align: right;\n",
       "    }\n",
       "</style>\n",
       "<table border=\"1\" class=\"dataframe\">\n",
       "  <thead>\n",
       "    <tr style=\"text-align: right;\">\n",
       "      <th>spending_flag</th>\n",
       "      <th>High spender</th>\n",
       "      <th>Low spender</th>\n",
       "    </tr>\n",
       "    <tr>\n",
       "      <th>Region</th>\n",
       "      <th></th>\n",
       "      <th></th>\n",
       "    </tr>\n",
       "  </thead>\n",
       "  <tbody>\n",
       "    <tr>\n",
       "      <th>Midwest</th>\n",
       "      <td>155975</td>\n",
       "      <td>7441350</td>\n",
       "    </tr>\n",
       "    <tr>\n",
       "      <th>Northeast</th>\n",
       "      <td>108225</td>\n",
       "      <td>5614511</td>\n",
       "    </tr>\n",
       "    <tr>\n",
       "      <th>South</th>\n",
       "      <td>209691</td>\n",
       "      <td>10582194</td>\n",
       "    </tr>\n",
       "    <tr>\n",
       "      <th>West</th>\n",
       "      <td>160354</td>\n",
       "      <td>8132559</td>\n",
       "    </tr>\n",
       "  </tbody>\n",
       "</table>\n",
       "</div>"
      ],
      "text/plain": [
       "spending_flag  High spender  Low spender\n",
       "Region                                  \n",
       "Midwest              155975      7441350\n",
       "Northeast            108225      5614511\n",
       "South                209691     10582194\n",
       "West                 160354      8132559"
      ]
     },
     "execution_count": 13,
     "metadata": {},
     "output_type": "execute_result"
    }
   ],
   "source": [
    "#Checking the data in the crosstab\n",
    "regional_spending"
   ]
  },
  {
   "cell_type": "code",
   "execution_count": 14,
   "id": "2a56c049",
   "metadata": {},
   "outputs": [],
   "source": [
    "#Exporting to excel to calculate percentage of high spenders per region\n",
    "regional_spending.to_clipboard()"
   ]
  },
  {
   "cell_type": "code",
   "execution_count": 15,
   "id": "55db5f2d",
   "metadata": {},
   "outputs": [],
   "source": [
    "#Import Excel results\n",
    "regional_spendings_percentages_1 = pd.read_excel(os.path.join(path, '02 Data', 'Prepared Data', '4.10_additional_data.xlsx'), index_col=False)"
   ]
  },
  {
   "cell_type": "code",
   "execution_count": 16,
   "id": "961946cd",
   "metadata": {},
   "outputs": [
    {
     "data": {
      "text/html": [
       "<div>\n",
       "<style scoped>\n",
       "    .dataframe tbody tr th:only-of-type {\n",
       "        vertical-align: middle;\n",
       "    }\n",
       "\n",
       "    .dataframe tbody tr th {\n",
       "        vertical-align: top;\n",
       "    }\n",
       "\n",
       "    .dataframe thead th {\n",
       "        text-align: right;\n",
       "    }\n",
       "</style>\n",
       "<table border=\"1\" class=\"dataframe\">\n",
       "  <thead>\n",
       "    <tr style=\"text-align: right;\">\n",
       "      <th></th>\n",
       "      <th>Region</th>\n",
       "      <th>Percentage of high spenders</th>\n",
       "      <th>Percentage of low spenders</th>\n",
       "    </tr>\n",
       "  </thead>\n",
       "  <tbody>\n",
       "    <tr>\n",
       "      <th>0</th>\n",
       "      <td>Midwest</td>\n",
       "      <td>2.053025</td>\n",
       "      <td>97.946975</td>\n",
       "    </tr>\n",
       "    <tr>\n",
       "      <th>1</th>\n",
       "      <td>Northeast</td>\n",
       "      <td>1.891141</td>\n",
       "      <td>98.108859</td>\n",
       "    </tr>\n",
       "    <tr>\n",
       "      <th>2</th>\n",
       "      <td>South</td>\n",
       "      <td>1.943043</td>\n",
       "      <td>98.056957</td>\n",
       "    </tr>\n",
       "    <tr>\n",
       "      <th>3</th>\n",
       "      <td>West</td>\n",
       "      <td>1.933627</td>\n",
       "      <td>98.066373</td>\n",
       "    </tr>\n",
       "  </tbody>\n",
       "</table>\n",
       "</div>"
      ],
      "text/plain": [
       "      Region  Percentage of high spenders  Percentage of low spenders\n",
       "0    Midwest                     2.053025                   97.946975\n",
       "1  Northeast                     1.891141                   98.108859\n",
       "2      South                     1.943043                   98.056957\n",
       "3       West                     1.933627                   98.066373"
      ]
     },
     "execution_count": 16,
     "metadata": {},
     "output_type": "execute_result"
    }
   ],
   "source": [
    "regional_spendings_percentages_1.head()"
   ]
  },
  {
   "cell_type": "markdown",
   "id": "d5a2b6d0",
   "metadata": {},
   "source": [
    "There are slighlty more high spenders in the Midwest than in other regions, but overall the low/high spenderss ratio is similar in every region (98%-2%)."
   ]
  },
  {
   "cell_type": "code",
   "execution_count": 24,
   "id": "695d38b9",
   "metadata": {},
   "outputs": [
    {
     "data": {
      "image/png": "[encoded data removed]",
      "text/plain": [
       "<Figure size 640x480 with 1 Axes>"
      ]
     },
     "metadata": {},
     "output_type": "display_data"
    }
   ],
   "source": [
    "#Create a bar chart showing the number of high and low spenders in each region\n",
    "bar_chart_regional_spending=regional_spending.plot.bar(color=['lightblue','royalblue'], title = 'Number of High and Low Spenders per Region')"
   ]
  },
  {
   "cell_type": "code",
   "execution_count": 25,
   "id": "b5fcc447",
   "metadata": {},
   "outputs": [
    {
     "data": {
      "text/plain": [
       "[[Text(0, 0, 'Midwest'),\n",
       "  Text(1, 0, 'Northeast'),\n",
       "  Text(2, 0, 'South'),\n",
       "  Text(3, 0, 'West')]]"
      ]
     },
     "execution_count": 25,
     "metadata": {},
     "output_type": "execute_result"
    },
    {
     "data": {
      "image/png": "[encoded data removed]",
      "text/plain": [
       "<Figure size 640x480 with 1 Axes>"
      ]
     },
     "metadata": {},
     "output_type": "display_data"
    }
   ],
   "source": [
    "#Create a bar chart showing the percentage of high and low spenders in each region\n",
    "bar_chart_regional_spending1=regional_spendings_percentages_1.plot.bar(color=['lightblue','royalblue'],title = 'Percentage of High and Low Spenders per Region')\n",
    "bar_chart_regional_spending1.set(xticklabels=['Midwest', 'Northeast', 'South', 'West' ])"
   ]
  },
  {
   "cell_type": "markdown",
   "id": "70d97903",
   "metadata": {},
   "source": [
    "### Create an exclusion flag for low-activity customers (customers with less than 5 orders) and exclude them from the data."
   ]
  },
  {
   "cell_type": "code",
   "execution_count": 26,
   "id": "50ca067e",
   "metadata": {},
   "outputs": [],
   "source": [
    "#Creating a column called \"exclusion flag\" to flag customers who made less than 5 orders.\n",
    "ords_final.loc[ords_final['max_order'] >= 5, 'exclusion_flag'] = 'Keep'\n",
    "ords_final.loc[ords_final['max_order'] < 5, 'exclusion_flag'] = 'Remove'"
   ]
  },
  {
   "cell_type": "code",
   "execution_count": 27,
   "id": "d2727d8b",
   "metadata": {},
   "outputs": [
    {
     "data": {
      "text/plain": [
       "exclusion_flag\n",
       "Keep      30964564\n",
       "Remove     1440295\n",
       "Name: count, dtype: int64"
      ]
     },
     "execution_count": 27,
     "metadata": {},
     "output_type": "execute_result"
    }
   ],
   "source": [
    "#Check that all each row has been assigned a flag.\n",
    "ords_final['exclusion_flag'].value_counts(dropna = False)"
   ]
  },
  {
   "cell_type": "code",
   "execution_count": 28,
   "id": "a1970fbb",
   "metadata": {},
   "outputs": [
    {
     "data": {
      "text/plain": [
       "32404859"
      ]
     },
     "execution_count": 28,
     "metadata": {},
     "output_type": "execute_result"
    }
   ],
   "source": [
    "#Check that the rows that have been assigned either a Keep or Remove exclusion flag still amount to 32404859\n",
    "30964564 + 1440295"
   ]
  },
  {
   "cell_type": "code",
   "execution_count": 29,
   "id": "293292e7",
   "metadata": {},
   "outputs": [
    {
     "data": {
      "text/plain": [
       "exclusion_flag\n",
       "Keep      162631\n",
       "Remove     43578\n",
       "Name: user_id, dtype: int64"
      ]
     },
     "execution_count": 29,
     "metadata": {},
     "output_type": "execute_result"
    }
   ],
   "source": [
    "#Grouping data by unique user_id so as not to count a customer everytime they placce an order\n",
    "ords_final.groupby(['exclusion_flag']).user_id.nunique()"
   ]
  },
  {
   "cell_type": "code",
   "execution_count": 30,
   "id": "9b6ff167",
   "metadata": {},
   "outputs": [
    {
     "data": {
      "text/html": [
       "<div>\n",
       "<style scoped>\n",
       "    .dataframe tbody tr th:only-of-type {\n",
       "        vertical-align: middle;\n",
       "    }\n",
       "\n",
       "    .dataframe tbody tr th {\n",
       "        vertical-align: top;\n",
       "    }\n",
       "\n",
       "    .dataframe thead th {\n",
       "        text-align: right;\n",
       "    }\n",
       "</style>\n",
       "<table border=\"1\" class=\"dataframe\">\n",
       "  <thead>\n",
       "    <tr style=\"text-align: right;\">\n",
       "      <th></th>\n",
       "      <th>user_id</th>\n",
       "      <th>exclusion_flag</th>\n",
       "      <th>order_number</th>\n",
       "      <th>max_order</th>\n",
       "    </tr>\n",
       "  </thead>\n",
       "  <tbody>\n",
       "    <tr>\n",
       "      <th>32404799</th>\n",
       "      <td>11534</td>\n",
       "      <td>Keep</td>\n",
       "      <td>2</td>\n",
       "      <td>12</td>\n",
       "    </tr>\n",
       "    <tr>\n",
       "      <th>32404800</th>\n",
       "      <td>11534</td>\n",
       "      <td>Keep</td>\n",
       "      <td>3</td>\n",
       "      <td>12</td>\n",
       "    </tr>\n",
       "    <tr>\n",
       "      <th>32404801</th>\n",
       "      <td>11534</td>\n",
       "      <td>Keep</td>\n",
       "      <td>4</td>\n",
       "      <td>12</td>\n",
       "    </tr>\n",
       "    <tr>\n",
       "      <th>32404802</th>\n",
       "      <td>11534</td>\n",
       "      <td>Keep</td>\n",
       "      <td>5</td>\n",
       "      <td>12</td>\n",
       "    </tr>\n",
       "    <tr>\n",
       "      <th>32404803</th>\n",
       "      <td>11534</td>\n",
       "      <td>Keep</td>\n",
       "      <td>6</td>\n",
       "      <td>12</td>\n",
       "    </tr>\n",
       "    <tr>\n",
       "      <th>32404804</th>\n",
       "      <td>11534</td>\n",
       "      <td>Keep</td>\n",
       "      <td>7</td>\n",
       "      <td>12</td>\n",
       "    </tr>\n",
       "    <tr>\n",
       "      <th>32404805</th>\n",
       "      <td>11534</td>\n",
       "      <td>Keep</td>\n",
       "      <td>8</td>\n",
       "      <td>12</td>\n",
       "    </tr>\n",
       "    <tr>\n",
       "      <th>32404806</th>\n",
       "      <td>11534</td>\n",
       "      <td>Keep</td>\n",
       "      <td>9</td>\n",
       "      <td>12</td>\n",
       "    </tr>\n",
       "    <tr>\n",
       "      <th>32404807</th>\n",
       "      <td>11534</td>\n",
       "      <td>Keep</td>\n",
       "      <td>10</td>\n",
       "      <td>12</td>\n",
       "    </tr>\n",
       "    <tr>\n",
       "      <th>32404808</th>\n",
       "      <td>11534</td>\n",
       "      <td>Keep</td>\n",
       "      <td>11</td>\n",
       "      <td>12</td>\n",
       "    </tr>\n",
       "    <tr>\n",
       "      <th>32404809</th>\n",
       "      <td>11534</td>\n",
       "      <td>Keep</td>\n",
       "      <td>12</td>\n",
       "      <td>12</td>\n",
       "    </tr>\n",
       "    <tr>\n",
       "      <th>32404810</th>\n",
       "      <td>105857</td>\n",
       "      <td>Keep</td>\n",
       "      <td>1</td>\n",
       "      <td>6</td>\n",
       "    </tr>\n",
       "    <tr>\n",
       "      <th>32404811</th>\n",
       "      <td>105857</td>\n",
       "      <td>Keep</td>\n",
       "      <td>2</td>\n",
       "      <td>6</td>\n",
       "    </tr>\n",
       "    <tr>\n",
       "      <th>32404812</th>\n",
       "      <td>105857</td>\n",
       "      <td>Keep</td>\n",
       "      <td>3</td>\n",
       "      <td>6</td>\n",
       "    </tr>\n",
       "    <tr>\n",
       "      <th>32404813</th>\n",
       "      <td>105857</td>\n",
       "      <td>Keep</td>\n",
       "      <td>4</td>\n",
       "      <td>6</td>\n",
       "    </tr>\n",
       "    <tr>\n",
       "      <th>32404814</th>\n",
       "      <td>105857</td>\n",
       "      <td>Keep</td>\n",
       "      <td>5</td>\n",
       "      <td>6</td>\n",
       "    </tr>\n",
       "    <tr>\n",
       "      <th>32404815</th>\n",
       "      <td>105857</td>\n",
       "      <td>Keep</td>\n",
       "      <td>6</td>\n",
       "      <td>6</td>\n",
       "    </tr>\n",
       "    <tr>\n",
       "      <th>32404816</th>\n",
       "      <td>38979</td>\n",
       "      <td>Remove</td>\n",
       "      <td>1</td>\n",
       "      <td>3</td>\n",
       "    </tr>\n",
       "    <tr>\n",
       "      <th>32404817</th>\n",
       "      <td>38979</td>\n",
       "      <td>Remove</td>\n",
       "      <td>2</td>\n",
       "      <td>3</td>\n",
       "    </tr>\n",
       "    <tr>\n",
       "      <th>32404818</th>\n",
       "      <td>38979</td>\n",
       "      <td>Remove</td>\n",
       "      <td>3</td>\n",
       "      <td>3</td>\n",
       "    </tr>\n",
       "    <tr>\n",
       "      <th>32404819</th>\n",
       "      <td>120516</td>\n",
       "      <td>Keep</td>\n",
       "      <td>1</td>\n",
       "      <td>7</td>\n",
       "    </tr>\n",
       "    <tr>\n",
       "      <th>32404820</th>\n",
       "      <td>120516</td>\n",
       "      <td>Keep</td>\n",
       "      <td>2</td>\n",
       "      <td>7</td>\n",
       "    </tr>\n",
       "    <tr>\n",
       "      <th>32404821</th>\n",
       "      <td>120516</td>\n",
       "      <td>Keep</td>\n",
       "      <td>3</td>\n",
       "      <td>7</td>\n",
       "    </tr>\n",
       "    <tr>\n",
       "      <th>32404822</th>\n",
       "      <td>120516</td>\n",
       "      <td>Keep</td>\n",
       "      <td>4</td>\n",
       "      <td>7</td>\n",
       "    </tr>\n",
       "    <tr>\n",
       "      <th>32404823</th>\n",
       "      <td>120516</td>\n",
       "      <td>Keep</td>\n",
       "      <td>5</td>\n",
       "      <td>7</td>\n",
       "    </tr>\n",
       "    <tr>\n",
       "      <th>32404824</th>\n",
       "      <td>120516</td>\n",
       "      <td>Keep</td>\n",
       "      <td>6</td>\n",
       "      <td>7</td>\n",
       "    </tr>\n",
       "    <tr>\n",
       "      <th>32404825</th>\n",
       "      <td>120516</td>\n",
       "      <td>Keep</td>\n",
       "      <td>7</td>\n",
       "      <td>7</td>\n",
       "    </tr>\n",
       "    <tr>\n",
       "      <th>32404826</th>\n",
       "      <td>166751</td>\n",
       "      <td>Remove</td>\n",
       "      <td>1</td>\n",
       "      <td>3</td>\n",
       "    </tr>\n",
       "    <tr>\n",
       "      <th>32404827</th>\n",
       "      <td>166751</td>\n",
       "      <td>Remove</td>\n",
       "      <td>2</td>\n",
       "      <td>3</td>\n",
       "    </tr>\n",
       "    <tr>\n",
       "      <th>32404828</th>\n",
       "      <td>166751</td>\n",
       "      <td>Remove</td>\n",
       "      <td>3</td>\n",
       "      <td>3</td>\n",
       "    </tr>\n",
       "    <tr>\n",
       "      <th>32404829</th>\n",
       "      <td>106143</td>\n",
       "      <td>Keep</td>\n",
       "      <td>1</td>\n",
       "      <td>26</td>\n",
       "    </tr>\n",
       "    <tr>\n",
       "      <th>32404830</th>\n",
       "      <td>106143</td>\n",
       "      <td>Keep</td>\n",
       "      <td>2</td>\n",
       "      <td>26</td>\n",
       "    </tr>\n",
       "    <tr>\n",
       "      <th>32404831</th>\n",
       "      <td>106143</td>\n",
       "      <td>Keep</td>\n",
       "      <td>3</td>\n",
       "      <td>26</td>\n",
       "    </tr>\n",
       "    <tr>\n",
       "      <th>32404832</th>\n",
       "      <td>106143</td>\n",
       "      <td>Keep</td>\n",
       "      <td>4</td>\n",
       "      <td>26</td>\n",
       "    </tr>\n",
       "    <tr>\n",
       "      <th>32404833</th>\n",
       "      <td>106143</td>\n",
       "      <td>Keep</td>\n",
       "      <td>5</td>\n",
       "      <td>26</td>\n",
       "    </tr>\n",
       "    <tr>\n",
       "      <th>32404834</th>\n",
       "      <td>106143</td>\n",
       "      <td>Keep</td>\n",
       "      <td>6</td>\n",
       "      <td>26</td>\n",
       "    </tr>\n",
       "    <tr>\n",
       "      <th>32404835</th>\n",
       "      <td>106143</td>\n",
       "      <td>Keep</td>\n",
       "      <td>7</td>\n",
       "      <td>26</td>\n",
       "    </tr>\n",
       "    <tr>\n",
       "      <th>32404836</th>\n",
       "      <td>106143</td>\n",
       "      <td>Keep</td>\n",
       "      <td>8</td>\n",
       "      <td>26</td>\n",
       "    </tr>\n",
       "    <tr>\n",
       "      <th>32404837</th>\n",
       "      <td>106143</td>\n",
       "      <td>Keep</td>\n",
       "      <td>9</td>\n",
       "      <td>26</td>\n",
       "    </tr>\n",
       "    <tr>\n",
       "      <th>32404838</th>\n",
       "      <td>106143</td>\n",
       "      <td>Keep</td>\n",
       "      <td>10</td>\n",
       "      <td>26</td>\n",
       "    </tr>\n",
       "    <tr>\n",
       "      <th>32404839</th>\n",
       "      <td>106143</td>\n",
       "      <td>Keep</td>\n",
       "      <td>11</td>\n",
       "      <td>26</td>\n",
       "    </tr>\n",
       "    <tr>\n",
       "      <th>32404840</th>\n",
       "      <td>106143</td>\n",
       "      <td>Keep</td>\n",
       "      <td>12</td>\n",
       "      <td>26</td>\n",
       "    </tr>\n",
       "    <tr>\n",
       "      <th>32404841</th>\n",
       "      <td>106143</td>\n",
       "      <td>Keep</td>\n",
       "      <td>13</td>\n",
       "      <td>26</td>\n",
       "    </tr>\n",
       "    <tr>\n",
       "      <th>32404842</th>\n",
       "      <td>106143</td>\n",
       "      <td>Keep</td>\n",
       "      <td>14</td>\n",
       "      <td>26</td>\n",
       "    </tr>\n",
       "    <tr>\n",
       "      <th>32404843</th>\n",
       "      <td>106143</td>\n",
       "      <td>Keep</td>\n",
       "      <td>15</td>\n",
       "      <td>26</td>\n",
       "    </tr>\n",
       "    <tr>\n",
       "      <th>32404844</th>\n",
       "      <td>106143</td>\n",
       "      <td>Keep</td>\n",
       "      <td>16</td>\n",
       "      <td>26</td>\n",
       "    </tr>\n",
       "    <tr>\n",
       "      <th>32404845</th>\n",
       "      <td>106143</td>\n",
       "      <td>Keep</td>\n",
       "      <td>17</td>\n",
       "      <td>26</td>\n",
       "    </tr>\n",
       "    <tr>\n",
       "      <th>32404846</th>\n",
       "      <td>106143</td>\n",
       "      <td>Keep</td>\n",
       "      <td>18</td>\n",
       "      <td>26</td>\n",
       "    </tr>\n",
       "    <tr>\n",
       "      <th>32404847</th>\n",
       "      <td>106143</td>\n",
       "      <td>Keep</td>\n",
       "      <td>19</td>\n",
       "      <td>26</td>\n",
       "    </tr>\n",
       "    <tr>\n",
       "      <th>32404848</th>\n",
       "      <td>106143</td>\n",
       "      <td>Keep</td>\n",
       "      <td>20</td>\n",
       "      <td>26</td>\n",
       "    </tr>\n",
       "    <tr>\n",
       "      <th>32404849</th>\n",
       "      <td>106143</td>\n",
       "      <td>Keep</td>\n",
       "      <td>21</td>\n",
       "      <td>26</td>\n",
       "    </tr>\n",
       "    <tr>\n",
       "      <th>32404850</th>\n",
       "      <td>106143</td>\n",
       "      <td>Keep</td>\n",
       "      <td>22</td>\n",
       "      <td>26</td>\n",
       "    </tr>\n",
       "    <tr>\n",
       "      <th>32404851</th>\n",
       "      <td>106143</td>\n",
       "      <td>Keep</td>\n",
       "      <td>23</td>\n",
       "      <td>26</td>\n",
       "    </tr>\n",
       "    <tr>\n",
       "      <th>32404852</th>\n",
       "      <td>106143</td>\n",
       "      <td>Keep</td>\n",
       "      <td>24</td>\n",
       "      <td>26</td>\n",
       "    </tr>\n",
       "    <tr>\n",
       "      <th>32404853</th>\n",
       "      <td>106143</td>\n",
       "      <td>Keep</td>\n",
       "      <td>25</td>\n",
       "      <td>26</td>\n",
       "    </tr>\n",
       "    <tr>\n",
       "      <th>32404854</th>\n",
       "      <td>106143</td>\n",
       "      <td>Keep</td>\n",
       "      <td>26</td>\n",
       "      <td>26</td>\n",
       "    </tr>\n",
       "    <tr>\n",
       "      <th>32404855</th>\n",
       "      <td>66343</td>\n",
       "      <td>Remove</td>\n",
       "      <td>1</td>\n",
       "      <td>4</td>\n",
       "    </tr>\n",
       "    <tr>\n",
       "      <th>32404856</th>\n",
       "      <td>66343</td>\n",
       "      <td>Remove</td>\n",
       "      <td>2</td>\n",
       "      <td>4</td>\n",
       "    </tr>\n",
       "    <tr>\n",
       "      <th>32404857</th>\n",
       "      <td>66343</td>\n",
       "      <td>Remove</td>\n",
       "      <td>3</td>\n",
       "      <td>4</td>\n",
       "    </tr>\n",
       "    <tr>\n",
       "      <th>32404858</th>\n",
       "      <td>66343</td>\n",
       "      <td>Remove</td>\n",
       "      <td>4</td>\n",
       "      <td>4</td>\n",
       "    </tr>\n",
       "  </tbody>\n",
       "</table>\n",
       "</div>"
      ],
      "text/plain": [
       "          user_id exclusion_flag  order_number  max_order\n",
       "32404799    11534           Keep             2         12\n",
       "32404800    11534           Keep             3         12\n",
       "32404801    11534           Keep             4         12\n",
       "32404802    11534           Keep             5         12\n",
       "32404803    11534           Keep             6         12\n",
       "32404804    11534           Keep             7         12\n",
       "32404805    11534           Keep             8         12\n",
       "32404806    11534           Keep             9         12\n",
       "32404807    11534           Keep            10         12\n",
       "32404808    11534           Keep            11         12\n",
       "32404809    11534           Keep            12         12\n",
       "32404810   105857           Keep             1          6\n",
       "32404811   105857           Keep             2          6\n",
       "32404812   105857           Keep             3          6\n",
       "32404813   105857           Keep             4          6\n",
       "32404814   105857           Keep             5          6\n",
       "32404815   105857           Keep             6          6\n",
       "32404816    38979         Remove             1          3\n",
       "32404817    38979         Remove             2          3\n",
       "32404818    38979         Remove             3          3\n",
       "32404819   120516           Keep             1          7\n",
       "32404820   120516           Keep             2          7\n",
       "32404821   120516           Keep             3          7\n",
       "32404822   120516           Keep             4          7\n",
       "32404823   120516           Keep             5          7\n",
       "32404824   120516           Keep             6          7\n",
       "32404825   120516           Keep             7          7\n",
       "32404826   166751         Remove             1          3\n",
       "32404827   166751         Remove             2          3\n",
       "32404828   166751         Remove             3          3\n",
       "32404829   106143           Keep             1         26\n",
       "32404830   106143           Keep             2         26\n",
       "32404831   106143           Keep             3         26\n",
       "32404832   106143           Keep             4         26\n",
       "32404833   106143           Keep             5         26\n",
       "32404834   106143           Keep             6         26\n",
       "32404835   106143           Keep             7         26\n",
       "32404836   106143           Keep             8         26\n",
       "32404837   106143           Keep             9         26\n",
       "32404838   106143           Keep            10         26\n",
       "32404839   106143           Keep            11         26\n",
       "32404840   106143           Keep            12         26\n",
       "32404841   106143           Keep            13         26\n",
       "32404842   106143           Keep            14         26\n",
       "32404843   106143           Keep            15         26\n",
       "32404844   106143           Keep            16         26\n",
       "32404845   106143           Keep            17         26\n",
       "32404846   106143           Keep            18         26\n",
       "32404847   106143           Keep            19         26\n",
       "32404848   106143           Keep            20         26\n",
       "32404849   106143           Keep            21         26\n",
       "32404850   106143           Keep            22         26\n",
       "32404851   106143           Keep            23         26\n",
       "32404852   106143           Keep            24         26\n",
       "32404853   106143           Keep            25         26\n",
       "32404854   106143           Keep            26         26\n",
       "32404855    66343         Remove             1          4\n",
       "32404856    66343         Remove             2          4\n",
       "32404857    66343         Remove             3          4\n",
       "32404858    66343         Remove             4          4"
      ]
     },
     "execution_count": 30,
     "metadata": {},
     "output_type": "execute_result"
    }
   ],
   "source": [
    "#Checking that the flags have been assigned correctly\n",
    "ords_final[['user_id', 'exclusion_flag', 'order_number','max_order']].tail(60)"
   ]
  },
  {
   "cell_type": "code",
   "execution_count": 31,
   "id": "9ce7bc40",
   "metadata": {},
   "outputs": [],
   "source": [
    "#Creating a subset with the low-activity customers to be excluded from the data set\n",
    "subset_to_exclude = ords_final[ords_final['exclusion_flag'] == 'Remove']"
   ]
  },
  {
   "cell_type": "code",
   "execution_count": 32,
   "id": "cc986d4a",
   "metadata": {},
   "outputs": [
    {
     "data": {
      "text/plain": [
       "(1440295, 32)"
      ]
     },
     "execution_count": 32,
     "metadata": {},
     "output_type": "execute_result"
    }
   ],
   "source": [
    "#Checking the shape of the subset\n",
    "subset_to_exclude.shape"
   ]
  },
  {
   "cell_type": "code",
   "execution_count": 33,
   "id": "70d10327",
   "metadata": {},
   "outputs": [],
   "source": [
    "#Creating a new data frame excluding the low-activity\n",
    "ords_without_low_activity_customers = ords_final[ords_final['exclusion_flag'] == 'Keep']"
   ]
  },
  {
   "cell_type": "code",
   "execution_count": 34,
   "id": "e937e3e8",
   "metadata": {},
   "outputs": [
    {
     "data": {
      "text/plain": [
       "(30964564, 32)"
      ]
     },
     "execution_count": 34,
     "metadata": {},
     "output_type": "execute_result"
    }
   ],
   "source": [
    "#Checking the shape of the subset\n",
    "ords_without_low_activity_customers.shape"
   ]
  },
  {
   "cell_type": "code",
   "execution_count": 35,
   "id": "73d63381",
   "metadata": {},
   "outputs": [
    {
     "data": {
      "text/plain": [
       "32404859"
      ]
     },
     "execution_count": 35,
     "metadata": {},
     "output_type": "execute_result"
    }
   ],
   "source": [
    "#Check that the rows from the subset_to_exclude added to the rows of the ords_without_low_activity_customers subset equl to 32404859\n",
    "1440295 + 30964564"
   ]
  },
  {
   "cell_type": "code",
   "execution_count": 36,
   "id": "4bcf2122",
   "metadata": {},
   "outputs": [
    {
     "data": {
      "text/plain": [
       "(30964564, 32)"
      ]
     },
     "execution_count": 36,
     "metadata": {},
     "output_type": "execute_result"
    }
   ],
   "source": [
    "ords_without_low_activity_customers.shape"
   ]
  },
  {
   "cell_type": "markdown",
   "id": "55c1a9c3",
   "metadata": {},
   "source": [
    "# 3. Export Data"
   ]
  },
  {
   "cell_type": "code",
   "execution_count": null,
   "id": "740803d4",
   "metadata": {},
   "outputs": [],
   "source": [
    "#Export the subset as a pickle file\n",
    "subset_to_exclude.to_pickle(os.path.join(path, '02 Data','Prepared Data','ords_to_exclude.pkl'))"
   ]
  },
  {
   "cell_type": "code",
   "execution_count": 44,
   "id": "d6952469",
   "metadata": {},
   "outputs": [],
   "source": [
    "#Export the subset as a pickle file\n",
    "ords_without_low_activity_customers.to_pickle(os.path.join(path, '02 Data','Prepared Data','ords_without_low_activity_customers.pkl'))"
   ]
  }
 ],
 "metadata": {
  "kernelspec": {
   "display_name": "Python 3 (ipykernel)",
   "language": "python",
   "name": "python3"
  },
  "language_info": {
   "codemirror_mode": {
    "name": "ipython",
    "version": 3
   },
   "file_extension": ".py",
   "mimetype": "text/x-python",
   "name": "python",
   "nbconvert_exporter": "python",
   "pygments_lexer": "ipython3",
   "version": "3.11.5"
  }
 },
 "nbformat": 4,
 "nbformat_minor": 5
}
